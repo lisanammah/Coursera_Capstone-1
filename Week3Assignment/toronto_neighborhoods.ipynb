{
 "cells": [
  {
   "cell_type": "markdown",
   "metadata": {
    "collapsed": true
   },
   "source": [
    "Step 1: Notebook created!!\n",
    "--------------------------------------"
   ]
  },
  {
   "cell_type": "markdown",
   "metadata": {},
   "source": [
    "<hr />"
   ]
  },
  {
   "cell_type": "markdown",
   "metadata": {},
   "source": [
    "Step 2: Scrape the [wiki page](https://en.wikipedia.org/wiki/List_of_postal_codes_of_Canada:_M) and create a dataframe\n",
    "-----------------------------------------------------------------------------------------------------------------------------------"
   ]
  },
  {
   "cell_type": "markdown",
   "metadata": {},
   "source": [
    "#### Import some useful staff:"
   ]
  },
  {
   "cell_type": "code",
   "execution_count": 1,
   "metadata": {},
   "outputs": [],
   "source": [
    "import pandas as pd\n",
    "\n",
    "import requests\n",
    "from bs4 import BeautifulSoup # Great web scraping library!"
   ]
  },
  {
   "cell_type": "markdown",
   "metadata": {},
   "source": [
    "#### Download and parse web-page:"
   ]
  },
  {
   "cell_type": "code",
   "execution_count": 2,
   "metadata": {
    "scrolled": true
   },
   "outputs": [],
   "source": [
    "page_link = 'https://en.wikipedia.org/wiki/List_of_postal_codes_of_Canada:_M'\n",
    "page_response = requests.get(page_link, timeout=5) # Use GET to obtain the response\n",
    "page_content = BeautifulSoup(page_response.content, 'html.parser') # Use html parser to parse the page"
   ]
  },
  {
   "cell_type": "markdown",
   "metadata": {},
   "source": [
    "#### Let's extract the table from the content:"
   ]
  },
  {
   "cell_type": "code",
   "execution_count": 3,
   "metadata": {},
   "outputs": [
    {
     "data": {
      "text/plain": [
       "bs4.element.Tag"
      ]
     },
     "execution_count": 3,
     "metadata": {},
     "output_type": "execute_result"
    }
   ],
   "source": [
    "target_table = page_content.find('table', {'class': 'wikitable sortable'})\n",
    "type(target_table)"
   ]
  },
  {
   "cell_type": "markdown",
   "metadata": {},
   "source": [
    "#### And now let's define some helper functions"
   ]
  },
  {
   "cell_type": "markdown",
   "metadata": {},
   "source": [
    "Function to count rows and columns (here we assume, that each row have exactly the same number of columns)"
   ]
  },
  {
   "cell_type": "code",
   "execution_count": 8,
   "metadata": {},
   "outputs": [],
   "source": [
    "def count_rows_and_columns(table):\n",
    "    n_rows = n_columns = 0\n",
    "    \n",
    "    for row in table.find_all('tr'): # 'tr' is html tag that defines Table Row\n",
    "        n_data_columns_in_row = row.find_all('td') # 'td' is html tag that defines a column with Table Data\n",
    "        if len(n_data_columns_in_row): # if there is some columns in row\n",
    "            n_rows += 1 # count this row\n",
    "            if n_columns == 0: # and if we have not counted number of columns\n",
    "                n_columns = len(n_data_columns_in_row) # count it too\n",
    "    return n_rows, n_cols"
   ]
  },
  {
   "cell_type": "markdown",
   "metadata": {},
   "source": [
    "Function to get column names (here we assume, that column names are defined only once in the table)"
   ]
  },
  {
   "cell_type": "code",
   "execution_count": 9,
   "metadata": {},
   "outputs": [],
   "source": [
    "def get_column_names_list(table):\n",
    "    column_names = []\n",
    "    column_name_elements = table.find_all('th') # 'th' is html tag that defines Table Header (column name)\n",
    "    \n",
    "    if len(column_name_elements): # if there are some column names\n",
    "        for column_name_element in column_name_elements: # cycle through column name elements\n",
    "            column_names.append(column_name_element.get_text())\n",
    "    \n",
    "    return column_names"
   ]
  },
  {
   "cell_type": "markdown",
   "metadata": {},
   "source": [
    "Function to get one row at specific index (yep, I know, that it's not efficient to extract all the rows from the table every single time you want to get only one row, but in our case, it's acceptable and very convenient. Also, let's assume, that column names come in the first row, so we can simplify things and just throw it away)"
   ]
  },
  {
   "cell_type": "code",
   "execution_count": 14,
   "metadata": {},
   "outputs": [],
   "source": [
    "def get_row_as_dict(table, row_index):\n",
    "    table_rows = table.find_all('tr')\n",
    "    table_rows.pop(0) # throw away row with column names\n",
    "    column_names = get_column_names_list(table)\n",
    "    result_row = {}\n",
    "    for column_name, column_data_element in zip(column_names, table_rows[row_index].find_all('td')):\n",
    "        result_row[column_name] = column_data_element.get_text()\n",
    "    return result_row\n",
    "    \n",
    "    "
   ]
  },
  {
   "cell_type": "code",
   "execution_count": 13,
   "metadata": {},
   "outputs": [
    {
     "data": {
      "text/plain": [
       "[<td>M4A</td>,\n",
       " <td><a href=\"/wiki/North_York\" title=\"North York\">North York</a></td>,\n",
       " <td><a href=\"/wiki/Victoria_Village\" title=\"Victoria Village\">Victoria Village</a>\n",
       " </td>]"
      ]
     },
     "execution_count": 13,
     "metadata": {},
     "output_type": "execute_result"
    }
   ],
   "source": [
    "a = target_table.find_all('tr')\n",
    "a.pop(0)\n",
    "a[3].find_all('td')"
   ]
  },
  {
   "cell_type": "code",
   "execution_count": null,
   "metadata": {},
   "outputs": [],
   "source": []
  }
 ],
 "metadata": {
  "kernelspec": {
   "display_name": "Python 3",
   "language": "python",
   "name": "python3"
  },
  "language_info": {
   "codemirror_mode": {
    "name": "ipython",
    "version": 3
   },
   "file_extension": ".py",
   "mimetype": "text/x-python",
   "name": "python",
   "nbconvert_exporter": "python",
   "pygments_lexer": "ipython3",
   "version": "3.5.3"
  }
 },
 "nbformat": 4,
 "nbformat_minor": 1
}
